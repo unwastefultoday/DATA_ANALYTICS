{
 "cells": [
  {
   "cell_type": "code",
   "execution_count": 3,
   "metadata": {
    "execution": {
     "iopub.execute_input": "2022-03-04T12:18:40.981946Z",
     "iopub.status.busy": "2022-03-04T12:18:40.981266Z",
     "iopub.status.idle": "2022-03-04T12:18:41.102234Z",
     "shell.execute_reply": "2022-03-04T12:18:41.101476Z",
     "shell.execute_reply.started": "2022-03-04T12:18:40.981901Z"
    }
   },
   "outputs": [],
   "source": [
    "import numpy as np\n",
    "import pandas as pd\n",
    "import matplotlib.pyplot as plt\n",
    "%matplotlib inline\n",
    "import seaborn as sns\n",
    "from scipy.stats import norm, skew\n",
    "import random"
   ]
  },
  {
   "cell_type": "code",
   "execution_count": 4,
   "metadata": {
    "execution": {
     "iopub.execute_input": "2022-03-04T12:18:41.104360Z",
     "iopub.status.busy": "2022-03-04T12:18:41.103992Z",
     "iopub.status.idle": "2022-03-04T12:18:41.146347Z",
     "shell.execute_reply": "2022-03-04T12:18:41.145689Z",
     "shell.execute_reply.started": "2022-03-04T12:18:41.104317Z"
    }
   },
   "outputs": [],
   "source": [
    "wineQT = pd.read_csv(\"../input/wine-quality-dataset/WineQT.csv\")\n",
    "wineQT.head()"
   ]
  },
  {
   "cell_type": "markdown",
   "metadata": {},
   "source": [
    "# Data Cleaning, Outlier Handling"
   ]
  },
  {
   "cell_type": "code",
   "execution_count": 5,
   "metadata": {
    "execution": {
     "iopub.execute_input": "2022-03-04T12:18:41.147922Z",
     "iopub.status.busy": "2022-03-04T12:18:41.147672Z",
     "iopub.status.idle": "2022-03-04T12:18:41.198086Z",
     "shell.execute_reply": "2022-03-04T12:18:41.197256Z",
     "shell.execute_reply.started": "2022-03-04T12:18:41.147889Z"
    }
   },
   "outputs": [],
   "source": [
    "wineQT.describe()"
   ]
  },
  {
   "cell_type": "code",
   "execution_count": 6,
   "metadata": {
    "execution": {
     "iopub.execute_input": "2022-03-04T12:18:41.200494Z",
     "iopub.status.busy": "2022-03-04T12:18:41.200220Z",
     "iopub.status.idle": "2022-03-04T12:18:41.220174Z",
     "shell.execute_reply": "2022-03-04T12:18:41.219419Z",
     "shell.execute_reply.started": "2022-03-04T12:18:41.200457Z"
    }
   },
   "outputs": [],
   "source": [
    "del wineQT['Id']\n",
    "wineQT.head()"
   ]
  },
  {
   "cell_type": "code",
   "execution_count": 7,
   "metadata": {
    "execution": {
     "iopub.execute_input": "2022-03-04T12:18:41.222256Z",
     "iopub.status.busy": "2022-03-04T12:18:41.221955Z",
     "iopub.status.idle": "2022-03-04T12:18:41.231894Z",
     "shell.execute_reply": "2022-03-04T12:18:41.231000Z",
     "shell.execute_reply.started": "2022-03-04T12:18:41.222217Z"
    }
   },
   "outputs": [],
   "source": [
    "\n",
    "wineQT.isnull().sum()"
   ]
  },
  {
   "cell_type": "code",
   "execution_count": 8,
   "metadata": {
    "execution": {
     "iopub.execute_input": "2022-03-04T12:18:41.234678Z",
     "iopub.status.busy": "2022-03-04T12:18:41.233844Z",
     "iopub.status.idle": "2022-03-04T12:18:41.252913Z",
     "shell.execute_reply": "2022-03-04T12:18:41.252024Z",
     "shell.execute_reply.started": "2022-03-04T12:18:41.234634Z"
    }
   },
   "outputs": [],
   "source": [
    "from scipy import stats\n",
    "z = np.abs(stats.zscore(wineQT))\n",
    "\n",
    "threshold = 3\n",
    "\n",
    "#Keep rows with Z-score less than 3\n",
    "wineQT = wineQT[(z < 3).all(axis=1)]\n",
    "wineQT.shape"
   ]
  },
  {
   "cell_type": "markdown",
   "metadata": {},
   "source": [
    "# EDA, Data Visualization"
   ]
  },
  {
   "cell_type": "code",
   "execution_count": 9,
   "metadata": {
    "execution": {
     "iopub.execute_input": "2022-03-04T12:18:41.254745Z",
     "iopub.status.busy": "2022-03-04T12:18:41.254457Z",
     "iopub.status.idle": "2022-03-04T12:18:41.262232Z",
     "shell.execute_reply": "2022-03-04T12:18:41.261263Z",
     "shell.execute_reply.started": "2022-03-04T12:18:41.254708Z"
    }
   },
   "outputs": [],
   "source": [
    "def randomcolor():\n",
    "    r = random.random()\n",
    "    b = random.random()\n",
    "    g = random.random()\n",
    "    rgb = [r,g,b]\n",
    "    return rgb\n",
    "list(wineQT.columns)[:-1]"
   ]
  },
  {
   "cell_type": "code",
   "execution_count": 10,
   "metadata": {
    "execution": {
     "iopub.execute_input": "2022-03-04T12:18:41.264353Z",
     "iopub.status.busy": "2022-03-04T12:18:41.263961Z",
     "iopub.status.idle": "2022-03-04T12:18:41.453251Z",
     "shell.execute_reply": "2022-03-04T12:18:41.452522Z",
     "shell.execute_reply.started": "2022-03-04T12:18:41.264318Z"
    }
   },
   "outputs": [],
   "source": [
    "sns.countplot(x=wineQT.quality).set_title('Target Distribution',size=15)\n",
    "plt.show()"
   ]
  },
  {
   "cell_type": "markdown",
   "metadata": {},
   "source": [
    "## Inference-\n",
    "### Most of the wines are rated as either a 5 or a 6. "
   ]
  },
  {
   "cell_type": "code",
   "execution_count": 11,
   "metadata": {
    "execution": {
     "iopub.execute_input": "2022-03-04T12:18:41.455066Z",
     "iopub.status.busy": "2022-03-04T12:18:41.454649Z",
     "iopub.status.idle": "2022-03-04T12:18:45.044882Z",
     "shell.execute_reply": "2022-03-04T12:18:45.044206Z",
     "shell.execute_reply.started": "2022-03-04T12:18:41.455021Z"
    }
   },
   "outputs": [],
   "source": [
    "for col in list(wineQT.columns[:-2]):    \n",
    "    plt.figure(figsize=(15,7))\n",
    "    sns.lineplot(data=wineQT, x=\"quality\",y=col,color=randomcolor())\n",
    "    plt.show()"
   ]
  },
  {
   "cell_type": "markdown",
   "metadata": {},
   "source": [
    "## inferences-\n",
    "### 1. clear increases with increase in quality- fixed acidity, citric acid\n",
    "### 2. clearly decreases with decrease in quality- null\n",
    "### 3. mostly increases - sulphates\n",
    "### 4. mostly decreases- density, pH, total SO2, free SO2,chlorides,volatile acidity\n",
    "### 3. mixed/no trend- residual sugar "
   ]
  },
  {
   "cell_type": "code",
   "execution_count": 12,
   "metadata": {
    "execution": {
     "iopub.execute_input": "2022-03-04T12:18:45.048197Z",
     "iopub.status.busy": "2022-03-04T12:18:45.048003Z",
     "iopub.status.idle": "2022-03-04T12:18:48.658168Z",
     "shell.execute_reply": "2022-03-04T12:18:48.657478Z",
     "shell.execute_reply.started": "2022-03-04T12:18:45.048172Z"
    }
   },
   "outputs": [],
   "source": [
    "fig,ax=plt.subplots(6,2,figsize=(15,30))\n",
    "sns.regplot(x=wineQT.quality,y=wineQT.quality,ax=ax[0][0], color = randomcolor())\n",
    "sns.regplot(x=wineQT.quality,y=wineQT['volatile acidity'],ax=ax[0][1], color = randomcolor())\n",
    "sns.regplot(x=wineQT.quality,y=wineQT['citric acid'],ax=ax[1][0], color = randomcolor())\n",
    "sns.regplot(x=wineQT.quality,y=wineQT['residual sugar'],ax=ax[1][1], color = randomcolor())\n",
    "sns.regplot(x=wineQT.quality,y=wineQT['chlorides'],ax=ax[2][0], color = randomcolor())\n",
    "sns.regplot(x=wineQT.quality,y=wineQT['free sulfur dioxide'],ax=ax[2][1], color = randomcolor())\n",
    "sns.regplot(x=wineQT.quality,y=wineQT['total sulfur dioxide'],ax=ax[3][0], color = randomcolor())\n",
    "sns.regplot(x=wineQT.quality,y=wineQT['density'],ax=ax[3][1], color = randomcolor())\n",
    "sns.regplot(x=wineQT.quality,y=wineQT['pH'],ax=ax[4][0], color = randomcolor())\n",
    "sns.regplot(x=wineQT.quality,y=wineQT['sulphates'],ax=ax[4][1], color = randomcolor())\n",
    "sns.regplot(x=wineQT.quality,y=wineQT['alcohol'],ax=ax[5][0], color = randomcolor())\n",
    "sns.regplot(x=wineQT.quality,y=wineQT['fixed acidity'],ax=ax[5][1], color = randomcolor())\n",
    "\n",
    "plt.show()"
   ]
  },
  {
   "cell_type": "markdown",
   "metadata": {},
   "source": [
    "## Inferences-\n",
    "### 1. negative correlation between volatile acidity & quality\n",
    "\n",
    "### 2. positive correlation between citric acid & quality\n",
    "\n",
    "### 3. slight positive correlation between residual sugar & quality\n",
    "\n",
    "### 4. slight negative correlation between chlorides & quality\n",
    "\n",
    "### 5.  slight negative correlation between free sulfur dioxide & quality\n",
    "\n",
    "### 6.  negative correlation between total sulfur dioxide & quality\n",
    "\n",
    "### 7.  slight negative correlation between density & quality\n",
    "\n",
    "### 8.  slight negative correlation between pH & quality\n",
    "\n",
    "### 9.  positive correlation between sulphates & quality\n",
    "\n",
    "### 10. positive correlation between alcohol & quality\n",
    "\n",
    "### 11.  slight  positive correlation between fixed acidity & quality\n",
    "\n",
    "## Summary\n",
    "\n",
    "### positive- citric acid, sulphates,alcohol\n",
    "### slightly positive- residual sugar, sulphates, fixed acidity\n",
    "### slightly negative - chlorides, density, pH\n",
    "### negative - volatile acidity, total sulfur dioxide"
   ]
  },
  {
   "cell_type": "code",
   "execution_count": 13,
   "metadata": {
    "execution": {
     "iopub.execute_input": "2022-03-04T12:18:48.659386Z",
     "iopub.status.busy": "2022-03-04T12:18:48.659154Z",
     "iopub.status.idle": "2022-03-04T12:18:50.513929Z",
     "shell.execute_reply": "2022-03-04T12:18:50.513128Z",
     "shell.execute_reply.started": "2022-03-04T12:18:48.659349Z"
    }
   },
   "outputs": [],
   "source": [
    "fig,ax=plt.subplots(6,2,figsize=(15,30))\n",
    "sns.countplot(x=wineQT.quality,ax=ax[0][0]).set_title('Target Distribution',size=15)\n",
    "sns.boxplot(x=wineQT.quality,y=wineQT['volatile acidity'],ax=ax[0][1])\n",
    "sns.boxplot(x=wineQT.quality,y=wineQT['citric acid'],ax=ax[1][0])\n",
    "sns.boxplot(x=wineQT.quality,y=wineQT['residual sugar'],ax=ax[1][1])\n",
    "sns.boxplot(x=wineQT.quality,y=wineQT['chlorides'],ax=ax[2][0])\n",
    "sns.boxplot(x=wineQT.quality,y=wineQT['free sulfur dioxide'],ax=ax[2][1])\n",
    "sns.boxplot(x=wineQT.quality,y=wineQT['total sulfur dioxide'],ax=ax[3][0])\n",
    "sns.boxplot(x=wineQT.quality,y=wineQT['density'],ax=ax[3][1])\n",
    "sns.boxplot(x=wineQT.quality,y=wineQT['pH'],ax=ax[4][0])\n",
    "sns.boxplot(x=wineQT.quality,y=wineQT['sulphates'],ax=ax[4][1])\n",
    "sns.boxplot(x=wineQT.quality,y=wineQT['alcohol'],ax=ax[5][0])\n",
    "sns.boxplot(x=wineQT.quality,y=wineQT['fixed acidity'],ax=ax[5][1])\n",
    "plt.show()"
   ]
  },
  {
   "cell_type": "markdown",
   "metadata": {},
   "source": [
    "## Skewness"
   ]
  },
  {
   "cell_type": "code",
   "execution_count": 14,
   "metadata": {
    "execution": {
     "iopub.execute_input": "2022-03-04T12:18:50.515696Z",
     "iopub.status.busy": "2022-03-04T12:18:50.515438Z",
     "iopub.status.idle": "2022-03-04T12:18:52.900507Z",
     "shell.execute_reply": "2022-03-04T12:18:52.899874Z",
     "shell.execute_reply.started": "2022-03-04T12:18:50.515662Z"
    }
   },
   "outputs": [],
   "source": [
    "fig,ax=plt.subplots(6,2,figsize=(15,30))\n",
    "skewness = str(skew(wineQT['fixed acidity']))\n",
    "sns.distplot(wineQT['fixed acidity'],fit = norm,color = randomcolor(),ax=ax[0][0]).set_title(\"Skewness of \" + 'fixed acidity'+ ' = '+ skewness)\n",
    "skewness = str(skew(wineQT['volatile acidity']))\n",
    "sns.distplot(wineQT['volatile acidity'],fit = norm,color = randomcolor(),ax=ax[0][1]).set_title(\"Skewness of \" + 'volatile acidity'+ ' = '+ skewness)\n",
    "skewness = str(skew(wineQT['citric acid']))\n",
    "sns.distplot(wineQT['citric acid'],fit = norm,color = randomcolor(),ax=ax[1][0]).set_title(\"Skewness of \" + 'citric acid'+ ' = '+ skewness)\n",
    "skewness = str(skew(wineQT['residual sugar']))\n",
    "sns.distplot(wineQT['residual sugar'],fit = norm,color = randomcolor(),ax=ax[1][1]).set_title(\"Skewness of \" + 'residual sugar'+ ' = '+ skewness)\n",
    "skewness = str(skew(wineQT['chlorides']))\n",
    "sns.distplot(wineQT['chlorides'],fit = norm,color = randomcolor(),ax=ax[2][0]).set_title(\"Skewness of \" + 'chlorides'+ ' = '+ skewness)\n",
    "skewness = str(skew(wineQT['free sulfur dioxide']))\n",
    "sns.distplot(wineQT['free sulfur dioxide'],fit = norm,color = randomcolor(),ax=ax[2][1]).set_title(\"Skewness of \" + 'free sulfur dioxide'+ ' = '+ skewness)\n",
    "skewness = str(skew(wineQT['total sulfur dioxide']))\n",
    "sns.distplot(wineQT['total sulfur dioxide'],fit = norm,color = randomcolor(),ax=ax[3][0]).set_title(\"Skewness of \" + 'total sulfur dioxide'+ ' = '+ skewness)\n",
    "skewness = str(skew(wineQT['density']))\n",
    "sns.distplot(wineQT['density'],fit = norm,color = randomcolor(),ax=ax[3][1]).set_title(\"Skewness of \" + 'density'+ ' = '+ skewness)\n",
    "skewness = str(skew(wineQT['pH']))\n",
    "sns.distplot(wineQT['pH'],fit = norm,color = randomcolor(),ax=ax[4][0]).set_title(\"Skewness of \" + 'pH'+ ' = '+ skewness)\n",
    "skewness = str(skew(wineQT['sulphates']))\n",
    "sns.distplot(wineQT['sulphates'],fit = norm,color = randomcolor(),ax=ax[4][1]).set_title(\"Skewness of \" + 'sulphates'+ ' = '+ skewness)\n",
    "skewness = str(skew(wineQT['alcohol']))\n",
    "sns.distplot(wineQT['alcohol'],fit = norm,color = randomcolor(),ax=ax[5][0]).set_title(\"Skewness of \" + 'alcohol'+ ' = '+ skewness)\n",
    "skewness = str(skew(wineQT['alcohol']))\n",
    "sns.distplot(wineQT['alcohol'],fit = norm,color = randomcolor(),ax=ax[5][1]).set_title(\"Skewness of \" + 'alcohol'+ ' = '+ skewness)\n",
    "plt.show()\n"
   ]
  },
  {
   "cell_type": "markdown",
   "metadata": {},
   "source": [
    "## Inferences\n",
    "### 1. 3 Columns - total SO2, chlorides, residual sugar are highly skewed\n",
    "### 2. rest all are moderately skewed. \n",
    "\n",
    "### applying log transformation to highly skewed columns "
   ]
  },
  {
   "cell_type": "code",
   "execution_count": 15,
   "metadata": {
    "execution": {
     "iopub.execute_input": "2022-03-04T12:18:52.902161Z",
     "iopub.status.busy": "2022-03-04T12:18:52.901939Z",
     "iopub.status.idle": "2022-03-04T12:18:52.906429Z",
     "shell.execute_reply": "2022-03-04T12:18:52.905486Z",
     "shell.execute_reply.started": "2022-03-04T12:18:52.902131Z"
    }
   },
   "outputs": [],
   "source": [
    "highly_skewed = ['total sulfur dioxide','chlorides','residual sugar']"
   ]
  },
  {
   "cell_type": "code",
   "execution_count": 16,
   "metadata": {
    "execution": {
     "iopub.execute_input": "2022-03-04T12:18:52.908640Z",
     "iopub.status.busy": "2022-03-04T12:18:52.908023Z",
     "iopub.status.idle": "2022-03-04T12:18:52.935592Z",
     "shell.execute_reply": "2022-03-04T12:18:52.934914Z",
     "shell.execute_reply.started": "2022-03-04T12:18:52.908603Z"
    }
   },
   "outputs": [],
   "source": [
    "for col in highly_skewed:\n",
    "    wineQT[col]=np.log(wineQT[col])\n",
    "wineQT.head()"
   ]
  },
  {
   "cell_type": "code",
   "execution_count": 17,
   "metadata": {
    "execution": {
     "iopub.execute_input": "2022-03-04T12:18:52.937150Z",
     "iopub.status.busy": "2022-03-04T12:18:52.936851Z",
     "iopub.status.idle": "2022-03-04T12:18:53.725393Z",
     "shell.execute_reply": "2022-03-04T12:18:53.724730Z",
     "shell.execute_reply.started": "2022-03-04T12:18:52.937113Z"
    }
   },
   "outputs": [],
   "source": [
    "heatmap = sns.heatmap(wineQT.corr(), vmin=-1, vmax=1, annot=True)\n",
    "heatmap.set_title('Correlation Heatmap', fontdict={'fontsize':12}, pad=12)\n",
    "fig = plt.gcf()\n",
    "figsize = fig.get_size_inches()\n",
    "fig.set_size_inches(figsize * 2)\n",
    "plt.show()"
   ]
  },
  {
   "cell_type": "markdown",
   "metadata": {},
   "source": [
    "## Variance Thresholding"
   ]
  },
  {
   "cell_type": "code",
   "execution_count": 18,
   "metadata": {
    "execution": {
     "iopub.execute_input": "2022-03-04T12:18:53.727239Z",
     "iopub.status.busy": "2022-03-04T12:18:53.726779Z",
     "iopub.status.idle": "2022-03-04T12:18:53.740368Z",
     "shell.execute_reply": "2022-03-04T12:18:53.739696Z",
     "shell.execute_reply.started": "2022-03-04T12:18:53.727202Z"
    }
   },
   "outputs": [],
   "source": [
    "from sklearn.feature_selection import VarianceThreshold"
   ]
  },
  {
   "cell_type": "code",
   "execution_count": 19,
   "metadata": {
    "execution": {
     "iopub.execute_input": "2022-03-04T12:18:53.742037Z",
     "iopub.status.busy": "2022-03-04T12:18:53.741758Z",
     "iopub.status.idle": "2022-03-04T12:18:54.032392Z",
     "shell.execute_reply": "2022-03-04T12:18:54.031715Z",
     "shell.execute_reply.started": "2022-03-04T12:18:53.742002Z"
    }
   },
   "outputs": [],
   "source": [
    "ax = wineQT.var(0).plot(kind='bar', label='Variance')\n",
    "ax.hlines(10, 0, 13, label='Threshold')\n",
    "plt.legend()"
   ]
  },
  {
   "cell_type": "code",
   "execution_count": 20,
   "metadata": {
    "execution": {
     "iopub.execute_input": "2022-03-04T12:18:54.034103Z",
     "iopub.status.busy": "2022-03-04T12:18:54.033811Z",
     "iopub.status.idle": "2022-03-04T12:18:54.046804Z",
     "shell.execute_reply": "2022-03-04T12:18:54.045963Z",
     "shell.execute_reply.started": "2022-03-04T12:18:54.034066Z"
    }
   },
   "outputs": [],
   "source": [
    "vt = VarianceThreshold(threshold=10)\n",
    "x_reduced = vt.fit_transform(wineQT)\n",
    "wineQT.columns[vt.get_support()]"
   ]
  },
  {
   "cell_type": "code",
   "execution_count": 21,
   "metadata": {
    "execution": {
     "iopub.execute_input": "2022-03-04T12:18:54.049010Z",
     "iopub.status.busy": "2022-03-04T12:18:54.048337Z",
     "iopub.status.idle": "2022-03-04T12:18:54.056141Z",
     "shell.execute_reply": "2022-03-04T12:18:54.055179Z",
     "shell.execute_reply.started": "2022-03-04T12:18:54.048971Z"
    }
   },
   "outputs": [],
   "source": [
    "x_reduced"
   ]
  },
  {
   "cell_type": "code",
   "execution_count": 22,
   "metadata": {
    "execution": {
     "iopub.execute_input": "2022-03-04T12:18:54.058534Z",
     "iopub.status.busy": "2022-03-04T12:18:54.058139Z",
     "iopub.status.idle": "2022-03-04T12:18:54.070772Z",
     "shell.execute_reply": "2022-03-04T12:18:54.069806Z",
     "shell.execute_reply.started": "2022-03-04T12:18:54.058492Z"
    }
   },
   "outputs": [],
   "source": [
    "wineQT.var(0)"
   ]
  },
  {
   "cell_type": "code",
   "execution_count": 23,
   "metadata": {
    "execution": {
     "iopub.execute_input": "2022-03-04T12:18:54.073016Z",
     "iopub.status.busy": "2022-03-04T12:18:54.072498Z",
     "iopub.status.idle": "2022-03-04T12:18:54.728645Z",
     "shell.execute_reply": "2022-03-04T12:18:54.727986Z",
     "shell.execute_reply.started": "2022-03-04T12:18:54.072976Z"
    }
   },
   "outputs": [],
   "source": [
    "X = wineQT.drop(\"quality\",axis=1)\n",
    "Y = wineQT.quality\n",
    "\n",
    "thresholds = [0.01, 0.1, 10]\n",
    "r2 = []\n",
    "n_cols = []\n",
    "from sklearn.linear_model import LinearRegression \n",
    "from sklearn.metrics import r2_score\n",
    "for t in thresholds:\n",
    "    vt = VarianceThreshold(threshold=t)\n",
    "    x_red = vt.fit_transform(X)\n",
    "    n_cols.append(x_red.shape[1])\n",
    "    lr = LinearRegression().fit(x_red, Y)\n",
    "    p = lr.predict(x_red)\n",
    "    r2.append(r2_score(Y, p))\n",
    "\n",
    "fig, ax = plt.subplots(figsize=(8, 6))\n",
    "ax.plot(thresholds, r2, 'ro--', label='R2')\n",
    "ax.grid()\n",
    "ax.set_xscale('log')\n",
    "ax.set_xlabel('Threshold')\n",
    "_ = ax.legend()"
   ]
  },
  {
   "cell_type": "markdown",
   "metadata": {},
   "source": [
    "## Test-Train Split, Feature Selection"
   ]
  },
  {
   "cell_type": "code",
   "execution_count": 24,
   "metadata": {
    "execution": {
     "iopub.execute_input": "2022-03-04T12:18:54.732049Z",
     "iopub.status.busy": "2022-03-04T12:18:54.729927Z",
     "iopub.status.idle": "2022-03-04T12:18:54.744370Z",
     "shell.execute_reply": "2022-03-04T12:18:54.742248Z",
     "shell.execute_reply.started": "2022-03-04T12:18:54.732008Z"
    }
   },
   "outputs": [],
   "source": [
    "from sklearn.model_selection import train_test_split\n",
    "from sklearn.preprocessing import StandardScaler\n",
    "from sklearn.linear_model import LogisticRegression\n",
    "X_train, X_test,Y_train,Y_test = train_test_split(X, Y, test_size = 0.3,stratify=Y, random_state = 42)"
   ]
  },
  {
   "cell_type": "code",
   "execution_count": 25,
   "metadata": {
    "execution": {
     "iopub.execute_input": "2022-03-04T12:18:54.747996Z",
     "iopub.status.busy": "2022-03-04T12:18:54.747477Z",
     "iopub.status.idle": "2022-03-04T12:18:54.774465Z",
     "shell.execute_reply": "2022-03-04T12:18:54.773781Z",
     "shell.execute_reply.started": "2022-03-04T12:18:54.747955Z"
    }
   },
   "outputs": [],
   "source": [
    "# Standardization for X variables \n",
    "sc= StandardScaler()\n",
    "sc.fit(X_train)\n",
    "# Fitting Logistic model \n",
    "logit_model= LogisticRegression(solver='liblinear')\n",
    "logit_model.fit(sc.transform(X_train), Y_train)\n",
    "# Rank features by importance\n",
    "feature= pd.DataFrame()\n",
    "feature['column']= X_train.columns\n",
    "feature['importance']= logit_model.coef_[0]\n",
    "feature.sort_values('importance', ascending=False, inplace=True)\n",
    "feature"
   ]
  },
  {
   "cell_type": "markdown",
   "metadata": {},
   "source": [
    "## Model Building "
   ]
  },
  {
   "cell_type": "code",
   "execution_count": 26,
   "metadata": {
    "execution": {
     "iopub.execute_input": "2022-03-04T12:18:54.776415Z",
     "iopub.status.busy": "2022-03-04T12:18:54.775952Z",
     "iopub.status.idle": "2022-03-04T12:18:54.781093Z",
     "shell.execute_reply": "2022-03-04T12:18:54.780223Z",
     "shell.execute_reply.started": "2022-03-04T12:18:54.776380Z"
    }
   },
   "outputs": [],
   "source": [
    "from sklearn.tree import DecisionTreeClassifier\n",
    "from sklearn.ensemble import RandomForestClassifier\n",
    "from sklearn.svm import SVC\n",
    "from sklearn.metrics import accuracy_score, mean_absolute_error ,mean_squared_error, median_absolute_error, explained_variance_score\n",
    " "
   ]
  },
  {
   "cell_type": "code",
   "execution_count": 27,
   "metadata": {
    "execution": {
     "iopub.execute_input": "2022-03-04T12:18:54.784787Z",
     "iopub.status.busy": "2022-03-04T12:18:54.784284Z",
     "iopub.status.idle": "2022-03-04T12:18:54.790817Z",
     "shell.execute_reply": "2022-03-04T12:18:54.789996Z",
     "shell.execute_reply.started": "2022-03-04T12:18:54.784747Z"
    }
   },
   "outputs": [],
   "source": [
    "X = wineQT.drop(\"quality\", axis = 1)\n",
    "Y = wineQT['quality']"
   ]
  },
  {
   "cell_type": "markdown",
   "metadata": {},
   "source": [
    "### Linear Regression "
   ]
  },
  {
   "cell_type": "code",
   "execution_count": 28,
   "metadata": {
    "execution": {
     "iopub.execute_input": "2022-03-04T12:18:54.793123Z",
     "iopub.status.busy": "2022-03-04T12:18:54.792168Z",
     "iopub.status.idle": "2022-03-04T12:18:54.813944Z",
     "shell.execute_reply": "2022-03-04T12:18:54.813146Z",
     "shell.execute_reply.started": "2022-03-04T12:18:54.793085Z"
    }
   },
   "outputs": [],
   "source": [
    "Lr = LinearRegression()\n",
    "mod_train = Lr.fit(X_train, Y_train)\n",
    "mod_pred = Lr.predict(X_test)\n",
    "print(\"Mean Squared Error: \\n{}\".format(mean_squared_error(Y_test, mod_pred)))\n",
    "print(\"Mean Absolute Error: \\n{}\".format(mean_absolute_error(Y_test, mod_pred)))\n",
    "print(\"Median Absolute Error: \\n{}\".format(median_absolute_error(Y_test, mod_pred)))\n",
    "print(\"Explained Variance: \\n{}\".format(explained_variance_score(Y_test, mod_pred)))\n",
    "print(\"Score the X-train with Y-train is : \", Lr.score(X_train,Y_train))\n",
    "print(\"Score the X-test  with Y-test  is : \", Lr.score(X_test,Y_test))"
   ]
  },
  {
   "cell_type": "markdown",
   "metadata": {},
   "source": [
    "### Classification Models (Logistic Regression, Decision Tree, Random Forest, SVC)"
   ]
  },
  {
   "cell_type": "code",
   "execution_count": 29,
   "metadata": {
    "execution": {
     "iopub.execute_input": "2022-03-04T12:18:54.815827Z",
     "iopub.status.busy": "2022-03-04T12:18:54.815378Z",
     "iopub.status.idle": "2022-03-04T12:18:54.886931Z",
     "shell.execute_reply": "2022-03-04T12:18:54.886152Z",
     "shell.execute_reply.started": "2022-03-04T12:18:54.815790Z"
    }
   },
   "outputs": [],
   "source": [
    "Logit=LogisticRegression()\n",
    "\n",
    "Logit.fit(X_train,Y_train)\n",
    "\n",
    "print(\"Score the X-train with Y-train is : \", Logit.score(X_train,Y_train))\n",
    "print(\"Score the X-test  with Y-test  is : \", Logit.score(X_test,Y_test))\n",
    "\n",
    "Y_pred=Logit.predict(X_test)\n",
    "\n",
    "print( \" Mean absolute error is \", mean_absolute_error(Y_test,Y_pred))\n",
    "print(\" Mean squared  error is \" , mean_squared_error(Y_test,Y_pred))\n",
    "print(\" Median absolute error is \" ,median_absolute_error(Y_test,Y_pred)) \n",
    "print(\"Accuracy score \" , accuracy_score(Y_test,Y_pred))\n"
   ]
  },
  {
   "cell_type": "code",
   "execution_count": 30,
   "metadata": {
    "execution": {
     "iopub.execute_input": "2022-03-04T12:18:54.891157Z",
     "iopub.status.busy": "2022-03-04T12:18:54.890954Z",
     "iopub.status.idle": "2022-03-04T12:18:54.913040Z",
     "shell.execute_reply": "2022-03-04T12:18:54.912247Z",
     "shell.execute_reply.started": "2022-03-04T12:18:54.891133Z"
    }
   },
   "outputs": [],
   "source": [
    "DT=DecisionTreeClassifier()\n",
    "\n",
    "DT.fit(X_train,Y_train)\n",
    "\n",
    "print(\"Score the X-train with Y-train is : \", DT.score(X_train,Y_train))\n",
    "print(\"Score the X-test  with Y-test  is : \", DT.score(X_test,Y_test))\n",
    "\n",
    "Y_pred=DT.predict(X_test)\n",
    "\n",
    "print( \" Mean absolute error is \", mean_absolute_error(Y_test,Y_pred))\n",
    "print(\" Mean squared  error is \" , mean_squared_error(Y_test,Y_pred))\n",
    "print(\" Median absolute error is \" ,median_absolute_error(Y_test,Y_pred)) \n",
    "print(\"Accuracy score \" , accuracy_score(Y_test,Y_pred))\n"
   ]
  },
  {
   "cell_type": "markdown",
   "metadata": {},
   "source": []
  },
  {
   "cell_type": "markdown",
   "metadata": {},
   "source": [
    "Perfect training score is indicative of overfitting. Using hyperparameter tuning to remove overfitting."
   ]
  },
  {
   "cell_type": "markdown",
   "metadata": {},
   "source": [
    "**HYPERPARAMETER TUNING**"
   ]
  },
  {
   "cell_type": "code",
   "execution_count": null,
   "metadata": {
    "execution": {
     "iopub.execute_input": "2022-03-04T12:18:54.914883Z",
     "iopub.status.busy": "2022-03-04T12:18:54.914424Z"
    }
   },
   "outputs": [],
   "source": [
    "from sklearn.model_selection import GridSearchCV\n",
    "dtc = DecisionTreeClassifier()\n",
    "grid_param={\"criterion\":[\"gini\",\"entropy\"],\n",
    "             \"splitter\":[\"best\",\"random\"],\n",
    "             \"max_depth\":range(2,50,1),\n",
    "             \"min_samples_leaf\":range(1,15,1),\n",
    "             \"min_samples_split\":range(2,20,1) \n",
    "            }\n",
    "grid_search=GridSearchCV(estimator=dtc,param_grid=grid_param,cv=5,n_jobs=-1)\n",
    "grid_search.fit(X_train,Y_train)"
   ]
  },
  {
   "cell_type": "code",
   "execution_count": null,
   "metadata": {},
   "outputs": [],
   "source": [
    "print(grid_search.best_params_)"
   ]
  },
  {
   "cell_type": "code",
   "execution_count": null,
   "metadata": {},
   "outputs": [],
   "source": [
    "        \n",
    "DT=DecisionTreeClassifier(criterion = 'gini',max_depth=36,min_samples_leaf = 4, min_samples_split = 12, splitter='random')\n",
    "\n",
    "DT.fit(X_train,Y_train)\n",
    "\n",
    "print(\"Score the X-train with Y-train is : \", DT.score(X_train,Y_train))\n",
    "print(\"Score the X-test  with Y-test  is : \", DT.score(X_test,Y_test))\n",
    "\n",
    "Y_pred=DT.predict(X_test)\n",
    "\n",
    "print( \" Mean absolute error is \", mean_absolute_error(Y_test,Y_pred))\n",
    "print(\" Mean squared  error is \" , mean_squared_error(Y_test,Y_pred))\n",
    "print(\" Median absolute error is \" ,median_absolute_error(Y_test,Y_pred)) \n",
    "print(\"Accuracy score \" , accuracy_score(Y_test,Y_pred))"
   ]
  },
  {
   "cell_type": "code",
   "execution_count": null,
   "metadata": {},
   "outputs": [],
   "source": [
    "RF=RandomForestClassifier()\n",
    "\n",
    "RF.fit(X_train,Y_train)\n",
    "\n",
    "print(\"Score the X-train with Y-train is : \", RF.score(X_train,Y_train))\n",
    "print(\"Score the X-test  with Y-test  is : \", RF.score(X_test,Y_test))\n",
    "\n",
    "Y_pred=RF.predict(X_test)\n",
    "\n",
    "print( \" Mean absolute error is \", mean_absolute_error(Y_test,Y_pred))\n",
    "print(\" Mean squared  error is \" , mean_squared_error(Y_test,Y_pred))\n",
    "print(\" Median absolute error is \" ,median_absolute_error(Y_test,Y_pred)) \n",
    "print(\"Accuracy score \" , accuracy_score(Y_test,Y_pred))"
   ]
  },
  {
   "cell_type": "code",
   "execution_count": null,
   "metadata": {},
   "outputs": [],
   "source": [
    "svc=SVC()\n",
    "\n",
    "svc.fit(X_train,Y_train)\n",
    "\n",
    "print(\"Score the X-train with Y-train is : \", svc.score(X_train,Y_train))\n",
    "print(\"Score the X-test  with Y-test  is : \", svc.score(X_test,Y_test))\n",
    "\n",
    "Y_pred=svc.predict(X_test)\n",
    "\n",
    "print( \" Mean absolute error is \", mean_absolute_error(Y_test,Y_pred))\n",
    "print(\" Mean squared  error is \" , mean_squared_error(Y_test,Y_pred))\n",
    "print(\" Median absolute error is \" ,median_absolute_error(Y_test,Y_pred)) \n",
    "print(\"Accuracy score \" , accuracy_score(Y_test,Y_pred))"
   ]
  }
 ],
 "metadata": {
  "kernelspec": {
   "display_name": "Python 3",
   "language": "python",
   "name": "python3"
  },
  "language_info": {
   "codemirror_mode": {
    "name": "ipython",
    "version": 3
   },
   "file_extension": ".py",
   "mimetype": "text/x-python",
   "name": "python",
   "nbconvert_exporter": "python",
   "pygments_lexer": "ipython3",
   "version": "3.8.3"
  }
 },
 "nbformat": 4,
 "nbformat_minor": 4
}
